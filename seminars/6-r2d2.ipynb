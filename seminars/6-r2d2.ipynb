{
 "cells": [
  {
   "cell_type": "code",
   "execution_count": 11,
   "id": "ba5250ea",
   "metadata": {
    "cellId": "jxyc8u48z7dam9titumeww"
   },
   "outputs": [],
   "source": [
    "import warnings\n",
    "\n",
    "import arviz as az\n",
    "import matplotlib.pyplot as plt\n",
    "import numpy as np\n",
    "import nutpie\n",
    "import pymc as pm\n",
    "import scipy.special as sp\n",
    "import scipy.stats as st\n",
    "from sklearn.datasets import fetch_california_housing\n",
    "from sklearn.preprocessing import StandardScaler\n",
    "\n",
    "warnings.filterwarnings(\"ignore\")"
   ]
  },
  {
   "cell_type": "code",
   "execution_count": 12,
   "id": "79f0cca5",
   "metadata": {
    "cellId": "03yrex4k4o1bxn1lgol08nq"
   },
   "outputs": [],
   "source": [
    "housing = fetch_california_housing(as_frame=True)"
   ]
  },
  {
   "cell_type": "code",
   "execution_count": 13,
   "id": "45632243",
   "metadata": {
    "cellId": "wywflocs2hj17u9gj94z"
   },
   "outputs": [],
   "source": [
    "data = housing[\"data\"].copy()\n",
    "target = housing[\"target\"]\n",
    "non_negative_variables = [\n",
    "    \"MedInc\",\n",
    "    \"HouseAge\",\n",
    "    \"AveRooms\",\n",
    "    \"AveBedrms\",\n",
    "    \"Population\",\n",
    "    \"AveOccup\",\n",
    "]\n",
    "data[non_negative_variables] = np.log1p(data[non_negative_variables])\n",
    "target = np.log(target)"
   ]
  },
  {
   "cell_type": "code",
   "execution_count": 16,
   "id": "bb67de46",
   "metadata": {
    "cellId": "nuysce52mqm104i9jf1"
   },
   "outputs": [],
   "source": [
    "Xscaler = StandardScaler()\n",
    "Yscaler = StandardScaler()\n",
    "X = Xscaler.fit_transform(data)\n",
    "Y = Xscaler.fit_transform(target.values[:, None])"
   ]
  }
 ],
 "metadata": {
  "language_info": {
   "codemirror_mode": {
    "name": "ipython",
    "version": 3
   },
   "file_extension": ".py",
   "mimetype": "text/x-python",
   "name": "python",
   "nbconvert_exporter": "python",
   "pygments_lexer": "ipython3",
   "version": "3.7.7"
  },
  "notebookId": "ad369ff6-4357-42fd-8149-66553821e949",
  "notebookPath": "Untitled.ipynb"
 },
 "nbformat": 4,
 "nbformat_minor": 5
}

{
 "cells": [
  {
   "cell_type": "markdown",
   "id": "f1589859",
   "metadata": {
    "cellId": "9qrbvrkxgyea5csyshw3la",
    "execution_id": "a6d62ba5-9e5d-4269-a627-8ab23c08239b"
   },
   "source": [
    "# HA 2 - Birds"
   ]
  },
  {
   "cell_type": "code",
   "execution_count": 213,
   "id": "33e2fa16",
   "metadata": {
    "cellId": "yz96t9t3ci2tom9bxr36p"
   },
   "outputs": [],
   "source": [
    "import pymc as pm\n",
    "import arviz as az\n",
    "import numpy as np\n",
    "import seaborn as sns\n",
    "import xarray as xa\n",
    "import matplotlib.pyplot as plt\n",
    "import json"
   ]
  },
  {
   "cell_type": "markdown",
   "id": "891835f1",
   "metadata": {
    "cellId": "aihyn73l4bgugvgtwg4sv",
    "execution_id": "5af6e434-db1d-4e1d-a246-0e6c54805c14"
   },
   "source": [
    "You run some bird platform and experiment with recommender and censorship systems.\n",
    "\n",
    "Improving recommendations or censorship leads to \n",
    "\n",
    "* higher/lower recommendation engagement (**people follow the thread**)\n",
    "* higher/lower **reading time** (the spend more time reading threads)\n",
    "* There are **like buttons** people tap to further engage\n",
    "\n",
    "Some historical background stuff\n",
    "\n",
    "* Historical recommendation engagement **5%**\n",
    "* Historical reading time is **Exponential** with historical average reading time 1m (60s)\n",
    "* **40%** topicstarters are liked"
   ]
  },
  {
   "cell_type": "markdown",
   "id": "e50ee3c5",
   "metadata": {
    "cellId": "uv5i4q8ruq9mhno2ljnq",
    "execution_id": "da68259f-9734-4873-baf8-6b184f205577"
   },
   "source": [
    "```\n",
    "impression -> 5% -> read thread ~ Exponential(1/60) -> 40% -> like\n",
    "           \\-> 95% -> scrolls                       \\-> 60% did not like\n",
    "```"
   ]
  },
  {
   "cell_type": "markdown",
   "id": "4d3f7a40",
   "metadata": {
    "cellId": "44s7wr0ywchfqrh0dh2ee",
    "execution_id": "4e38f351-26b7-4c19-a86e-9900836f26b5"
   },
   "source": [
    "You've discussed the possble intervals of the outcomes long time ago and they are the following:\n",
    "\n",
    "* **+/- 3.5%** change for thread read for the experiments, **except for the D**. For D you considered **+/- 5%**, because it touched sensible censorship topic\n",
    "* **+/- 3%** for the reading time which was similar across the experiments\n",
    "* **+/- 1.5%** for all the likes related metrics.\n",
    "\n",
    "**All are RELATIVE**\n",
    "\n",
    "* **+/- 3%** relative change is considered significant enough\n",
    "\n",
    "Grading (total 40)\n",
    "1. Model: 8pt\n",
    "    1. Implement the model (2pt)\n",
    "    2. Display the model structure (2pt)\n",
    "    3. Sample from it, should have 0 divergences (2pt)\n",
    "    4. Plot az.forest_plot with rope (2pt)\n",
    "2. Decision Making: \n",
    "    * 8 cases, 4pt each\n",
    "    * Each plot has to be commented\n",
    "3. No bonus points this time"
   ]
  },
  {
   "cell_type": "code",
   "execution_count": 229,
   "id": "637fa3bd",
   "metadata": {
    "cellId": "rj9gewq4i4b2kznz1tp0f6"
   },
   "outputs": [],
   "source": [
    "data = json.load(open(\"data.json\", \"r\"))"
   ]
  },
  {
   "cell_type": "markdown",
   "id": "c81cd885",
   "metadata": {
    "cellId": "eutigcrc2irko9teb4wn8i",
    "execution_id": "99a6ef6a-24af-4cb6-9b4a-9334cdc7114e"
   },
   "source": [
    "**What is the best experiment?**\n",
    "\n",
    "1. Try to answer just looking onto the rope plot..."
   ]
  },
  {
   "cell_type": "markdown",
   "id": "ce9be009",
   "metadata": {
    "cellId": "suau146fnrnd188vl3r6mm",
    "execution_id": "30bacd6b-76fe-4c4c-8b0c-d1711eebfd90"
   },
   "source": [
    "2. Experiment that maximizes likes *after a recommendation*"
   ]
  },
  {
   "cell_type": "markdown",
   "id": "3c67d75e",
   "metadata": {
    "cellId": "3pt2syzejrnsmbzmhucslo",
    "execution_id": "d8a63521-44c1-46f1-b6d6-519b422b46b9"
   },
   "source": [
    "3. Experiment that maximized read time *after a recommendation*"
   ]
  },
  {
   "cell_type": "markdown",
   "id": "b6cc1d5a",
   "metadata": {
    "cellId": "4mz7fow0gdtft57vnw2av",
    "execution_id": "f1b4bdd0-9694-4995-9094-d13e7f64ee33"
   },
   "source": [
    "4. Consider valuing (all at once)\n",
    "    1. each thread follow up with \\$0.005\n",
    "    2. each read second with \\$0.0005\n",
    "    3. each like with \\$0.0015\n",
    "    4. N users = 100000000"
   ]
  },
  {
   "cell_type": "markdown",
   "id": "47f62b8a",
   "metadata": {
    "cellId": "01pzxrpnxicf953hsdfebdw",
    "execution_id": "3dfdca5b-6489-4af6-80a2-bcb98935b19b"
   },
   "source": [
    "5. Consider implementation costs for projects and the previous information\n",
    "    1. 30000\n",
    "    2. 20000\n",
    "    3. 15000\n",
    "    4. 10000"
   ]
  },
  {
   "cell_type": "markdown",
   "id": "653f237b",
   "metadata": {
    "cellId": "jxbgonhzlbhobt2v9cmqo8",
    "execution_id": "b82547cf-d870-41ed-9a57-a046f9e2fd88"
   },
   "source": [
    "6. You are going to face people transitioning to another platform. Overall future engagement is quite unsure. Here are scenarios you consider:\n",
    "    1. Optimistic: there will be bright future, people will visit the app 5\\% more frequently\n",
    "    2. Conservative: nothing will change\n",
    "    3. Pessimistic: thought leaders will move to the new platform and take 5\\% of the audience implementation costs are 50% more\n",
    "    4. Depression: thought leaders will move to the new platform and take 15\\% of the audience implementation costs are 7 times more"
   ]
  },
  {
   "cell_type": "markdown",
   "id": "42acf297",
   "metadata": {
    "cellId": "c5fipmn6kma0r37itqwdim",
    "execution_id": "c36c705f-d776-462a-b8d0-460dc6a7b993"
   },
   "source": [
    "7. Among the scenarios, find the probability of being the best among the experiments. Show the heatmap; **Mind the x/y ticks, make sure it is not messed up**\n"
   ]
  },
  {
   "cell_type": "markdown",
   "id": "2d6b5474",
   "metadata": {
    "cellId": "pvccrdzzzsm6e8usjg1lb",
    "execution_id": "27735a71-4cf3-4390-b1cd-c8e256e7b647"
   },
   "source": [
    "8. You have to be conservative in the decision, find the 5% lower quantile for each experiment and scenario, show it on the heatmap, center it around zero. **Mind the x/y ticks, make sure it is not messed up**"
   ]
  }
 ],
 "metadata": {
  "language_info": {
   "codemirror_mode": {
    "name": "ipython",
    "version": 3
   },
   "file_extension": ".py",
   "mimetype": "text/x-python",
   "name": "python",
   "nbconvert_exporter": "python",
   "pygments_lexer": "ipython3",
   "version": "3.7.7"
  },
  "notebookId": "0bc9f3eb-ca0f-40b0-b7b1-0827ca798f86",
  "notebookPath": "ha-2-Copy1.ipynb"
 },
 "nbformat": 4,
 "nbformat_minor": 5
}

{
 "cells": [
  {
   "cell_type": "markdown",
   "id": "caee71ac",
   "metadata": {
    "cellId": "lg5qmvxbktqdc8j797spb"
   },
   "source": [
    "## Homework 1"
   ]
  },
  {
   "cell_type": "markdown",
   "id": "e730cdf8",
   "metadata": {
    "cellId": "vbom82owyi5b6w892zgz3",
    "execution_id": "cac453ed-0853-4f32-93b7-e569c8132627"
   },
   "source": [
    "## Installing dependencies\n",
    "\n",
    "> **The submission (zip file) consists of the notebook.ipynb + trace1 ... traceN.nc files** (file, export project as ZIP)"
   ]
  },
  {
   "cell_type": "code",
   "execution_count": null,
   "id": "b2cfb29c",
   "metadata": {
    "cellId": "a60gs6jzmbm9s9czym9gh"
   },
   "outputs": [],
   "source": [
    "%pip install -U pymc numpy scipy"
   ]
  },
  {
   "cell_type": "markdown",
   "id": "23099f8b",
   "metadata": {
    "cellId": "0zmwx33jq12nwghz16hmta"
   },
   "source": [
    "## Estimating Purchases"
   ]
  },
  {
   "cell_type": "code",
   "execution_count": null,
   "id": "d1077f78",
   "metadata": {
    "cellId": "ituo2hhdt3qtp3p9mkvm"
   },
   "outputs": [],
   "source": [
    "import pymc as pm\n",
    "import pandas as pd\n",
    "import io\n",
    "import pytensor.tensor as pt\n",
    "import matplotlib.pyplot as plt\n",
    "import arviz as az\n",
    "%matplotlib inline"
   ]
  },
  {
   "cell_type": "markdown",
   "id": "9edae16b",
   "metadata": {
    "cellId": "27k3qf4xagdjns6fjvq1yl",
    "execution_id": "73cd509a-13f1-4b9d-9a54-ea850484243f"
   },
   "source": [
    "You have raw purchase data (**obs**) from three grocery stores (**store**) for the same product (zero means a customer did not buy the product). Groceries are of different size so number of observations are different. You need to compare which grocery is more efficient in sales.\n",
    "\n",
    "\n",
    "1. (5 pt) Propose and motivate a likelihood for the problem\n",
    "    * likelihood with negative support = -5 points\n",
    "2. (10 pt) Propose and motivate a probabilistic model (non-hierarchical) for the problem. Some parameters may be shared, some independent if you want.\n",
    "    0. (2.5 pt) Write LaTeX equation for the model (displaying model is ok)\n",
    "    1. (2.5 pt) Motivate priors, under the only assumption that purchases are at orders of 100s and no more than 500\n",
    "    2. (2.5 pt) Make a prior predictive check to confirm your choice\n",
    "    3. (2.5 pt) Sample from the model, plot traces compare it with prior, comment on it (e.g. infulence of data size).\n",
    "    4. **total score for the section is multiplied by (1 - divergent samples / total samples)**\n",
    "    5. Save trace into traceN.nc\n",
    "3. (10 pt) Propose a hierarchical model for the problem. Put hierarchy on only one model parameter (you choose which one, prefer mean)\n",
    "    \n",
    "    same as 2.\n",
    "    \n",
    "4. (10 pt) Propose a hierarchical model for the problem. Put hierarchy on 2 model parameters (you choose which additional one, prefer p)\n",
    "    \n",
    "    same as 2\n",
    "\n",
    "5. (5 pt) Perform a model comparison study (look into [`az.compare`](https://arviz-devs.github.io/arviz/api/generated/arviz.compare.html)), you can use the models you have (at least 2)\n",
    "    1. Interpret the result and choose the model, elaborate on warnings\n",
    "6. (5 pt) Business Metric (bonus)\n",
    "    1. Propose and motivate a comparison metric between groceries to say (A is better than B)\n",
    "    2. Evaluate the metric on the the best model you have\n",
    "7. (5 pt) Make a prediction for a new store, you need model from (4) (bonus)\n",
    "\n",
    "(max 40 pt)\n",
    "\n",
    "**Important**\n",
    "> Use quoting for the main points of your solution"
   ]
  },
  {
   "cell_type": "code",
   "execution_count": null,
   "id": "63011392",
   "metadata": {
    "cellId": "4pihpmkf3yhdshzwkm9j3f",
    "tags": []
   },
   "outputs": [],
   "source": [
    "raw_data = io.StringIO('obs,store\\n117,0\\n0,0\\n0,0\\n134,0\\n0,0\\n0,0\\n0,0\\n0,0\\n122,0\\n0,0\\n108,0\\n0,0\\n0,0\\n0,0\\n0,0\\n124,0\\n0,0\\n0,0\\n113,0\\n118,0\\n0,0\\n105,0\\n114,0\\n0,0\\n118,0\\n106,0\\n0,0\\n100,0\\n0,0\\n0,0\\n123,0\\n0,0\\n0,0\\n0,0\\n0,0\\n129,0\\n0,0\\n117,0\\n0,0\\n0,0\\n0,0\\n0,0\\n0,0\\n115,0\\n123,0\\n0,0\\n0,0\\n0,0\\n137,0\\n0,0\\n0,0\\n0,0\\n0,0\\n0,0\\n136,0\\n0,0\\n107,0\\n0,0\\n0,0\\n0,0\\n0,0\\n115,0\\n118,0\\n0,0\\n105,0\\n105,0\\n97,0\\n121,0\\n0,0\\n0,0\\n0,0\\n124,0\\n114,0\\n0,0\\n101,0\\n0,0\\n0,0\\n0,0\\n121,0\\n0,0\\n0,0\\n0,0\\n119,0\\n0,0\\n108,0\\n121,0\\n0,0\\n0,0\\n116,0\\n0,0\\n0,0\\n0,0\\n0,0\\n0,0\\n0,0\\n0,0\\n127,0\\n0,0\\n0,0\\n106,0\\n0,0\\n0,0\\n0,0\\n131,0\\n0,0\\n0,0\\n128,0\\n122,0\\n0,0\\n0,0\\n0,0\\n0,0\\n0,0\\n0,0\\n102,0\\n119,0\\n0,0\\n0,0\\n0,0\\n123,0\\n0,0\\n0,0\\n0,0\\n120,0\\n0,1\\n0,1\\n0,1\\n0,1\\n0,1\\n121,1\\n0,1\\n0,1\\n0,1\\n123,1\\n0,1\\n106,1\\n0,1\\n0,1\\n0,1\\n0,1\\n0,1\\n0,1\\n0,1\\n0,1\\n0,1\\n0,1\\n0,1\\n0,1\\n0,1\\n0,1\\n0,1\\n0,1\\n0,1\\n0,1\\n0,1\\n142,1\\n0,1\\n0,1\\n0,1\\n131,1\\n0,1\\n0,1\\n0,1\\n0,1\\n0,1\\n0,1\\n0,1\\n0,2\\n0,2\\n0,2\\n0,2\\n0,2\\n0,2\\n0,2\\n0,2\\n0,2\\n81,2\\n0,2\\n0,2\\n73,2\\n0,2\\n0,2\\n0,2\\n69,2\\n0,2\\n94,2\\n0,2\\n91,2\\n0,2\\n0,2\\n98,2\\n0,2\\n79,2\\n90,2\\n0,2\\n0,2\\n0,2\\n0,2\\n0,2\\n0,2\\n102,2\\n0,2\\n87,2\\n0,2\\n81,2\\n0,2\\n0,2\\n0,2\\n0,2\\n0,2\\n0,2\\n0,2\\n86,2\\n97,2\\n0,2\\n0,2\\n0,2\\n76,2\\n0,2\\n83,2\\n0,2\\n0,2\\n88,2\\n0,2\\n86,2\\n0,2\\n0,2\\n99,2\\n0,2\\n0,2\\n86,2\\n86,2\\n0,2\\n93,2\\n0,2\\n0,2\\n0,2\\n90,2\\n0,2\\n81,2\\n0,2\\n0,2\\n0,2\\n0,2\\n0,2\\n0,2\\n0,2\\n0,2\\n0,2\\n91,2\\n0,2\\n0,2\\n67,2\\n107,2\\n0,2\\n0,2\\n0,2\\n0,2\\n101,2\\n0,2\\n0,2\\n0,2\\n0,2\\n0,2\\n0,2\\n0,2\\n0,2\\n0,2\\n0,2\\n0,2\\n0,2\\n75,2\\n112,2\\n0,2\\n0,2\\n0,2\\n0,2\\n0,2\\n91,2\\n0,2\\n0,2\\n0,2\\n81,2\\n108,2\\n92,2\\n0,2\\n0,2\\n0,2\\n90,2\\n0,2\\n0,2\\n0,2\\n0,2\\n0,2\\n0,2\\n0,2\\n93,2\\n0,2\\n0,2\\n0,2\\n96,2\\n0,2\\n0,2\\n0,2\\n0,2\\n94,2\\n0,2\\n90,2\\n0,2\\n0,2\\n0,2\\n0,2\\n94,2\\n0,2\\n0,2\\n0,2\\n0,2\\n72,2\\n0,2\\n97,2\\n0,2\\n82,2\\n0,2\\n0,2\\n0,2\\n0,2\\n0,2\\n0,2\\n0,2\\n0,2\\n0,2\\n0,2\\n105,2\\n0,2\\n0,2\\n0,2\\n0,2\\n0,2\\n0,2\\n0,2\\n99,2\\n90,2\\n0,2\\n76,2\\n92,2\\n0,2\\n0,2\\n0,2\\n0,2\\n0,2\\n100,2\\n113,2\\n0,2\\n0,2\\n0,2\\n100,2\\n0,2\\n91,2\\n0,2\\n88,2\\n0,2\\n0,2\\n0,2\\n83,2\\n0,2\\n0,2\\n82,2\\n0,2\\n84,2\\n101,2\\n0,2\\n0,2\\n0,2\\n0,2\\n102,2\\n0,2\\n0,2\\n0,2\\n99,2\\n91,2\\n0,2\\n95,2\\n0,2\\n0,2\\n0,2\\n0,2\\n0,2\\n0,2\\n73,2\\n0,2\\n80,2\\n0,2\\n0,2\\n0,2\\n0,2\\n0,2\\n0,2\\n0,2\\n90,2\\n0,2\\n0,2\\n0,2\\n0,2\\n95,2\\n0,2\\n91,2\\n0,2\\n0,2\\n0,2\\n0,2\\n0,2\\n0,2\\n0,2\\n0,2\\n0,2\\n0,2\\n92,2\\n0,2\\n0,2\\n97,2\\n70,2\\n102,2\\n0,2\\n0,2\\n0,2\\n87,2\\n111,2\\n0,2\\n0,2\\n0,2\\n0,2\\n0,2\\n0,2\\n0,2\\n0,2\\n73,2\\n79,2\\n99,2\\n0,2\\n0,2\\n88,2\\n88,2\\n0,2\\n0,2\\n94,2\\n0,2\\n0,2\\n0,2\\n0,2\\n0,2\\n0,2\\n0,2\\n0,2\\n94,2\\n0,2\\n88,2\\n0,2\\n0,2\\n0,2\\n0,2\\n0,2\\n80,2\\n90,2\\n0,2\\n0,2\\n0,2\\n87,2\\n0,2\\n0,2\\n0,2\\n0,2\\n0,2\\n0,2\\n0,2\\n105,2\\n0,2\\n0,2\\n88,2\\n0,2\\n0,2\\n0,2\\n0,2\\n0,2\\n0,2\\n71,2\\n0,2\\n103,2\\n0,2\\n0,2\\n0,2\\n0,2\\n0,2\\n0,2\\n0,2\\n0,2\\n0,2\\n96,2\\n0,2\\n0,2\\n0,2\\n94,2\\n0,2\\n79,2\\n110,2\\n0,2\\n0,2\\n0,2\\n90,2\\n0,2\\n0,2\\n0,2\\n101,2\\n0,2\\n95,2\\n94,2\\n0,2\\n0,2\\n0,2\\n0,2\\n0,2\\n85,2\\n0,2\\n100,2\\n92,2\\n0,2\\n0,2\\n0,2\\n110,2\\n0,2\\n0,2\\n0,2\\n0,2\\n78,2\\n0,2\\n74,2\\n0,2\\n103,2\\n0,2\\n0,2\\n0,2\\n0,2\\n90,2\\n0,2\\n0,2\\n0,2\\n0,2\\n0,2\\n0,2\\n90,2\\n105,2\\n0,2\\n0,2\\n0,2\\n103,2\\n0,2\\n0,2\\n0,2\\n0,2\\n98,2\\n89,2\\n105,2\\n0,2\\n0,2\\n93,2\\n0,2\\n93,2\\n0,2\\n0,2\\n0,2\\n0,2\\n88,2\\n88,2\\n0,2\\n0,2\\n91,2\\n0,2\\n89,2\\n0,2\\n0,2\\n100,2\\n0,2\\n0,2\\n0,2\\n0,2\\n0,2\\n0,2\\n0,2\\n0,2\\n0,2\\n0,2\\n0,2\\n0,2\\n0,2\\n0,2\\n75,2\\n0,2\\n0,2\\n0,2\\n0,2\\n0,2\\n0,2\\n0,2\\n0,2\\n85,2\\n0,2\\n83,2\\n0,2\\n0,2\\n80,2\\n0,2\\n0,2\\n0,2\\n0,2\\n89,2\\n0,2\\n0,2\\n76,2\\n0,2\\n89,2\\n0,2\\n0,2\\n0,2\\n0,2\\n0,2\\n88,2\\n0,2\\n0,2\\n0,2\\n0,2\\n0,2\\n0,2\\n0,2\\n0,2\\n0,2\\n101,2\\n0,2\\n112,2\\n92,2\\n0,2\\n0,2\\n0,2\\n0,2\\n0,2\\n93,2\\n0,2\\n0,2\\n0,2\\n0,2\\n0,2\\n0,2\\n0,2\\n0,2\\n95,2\\n0,2\\n0,2\\n94,2\\n0,2\\n0,2\\n0,2\\n0,2\\n0,2\\n104,2\\n0,2\\n89,2\\n0,2\\n88,2\\n0,2\\n0,2\\n0,2\\n0,2\\n86,2\\n82,2\\n0,2\\n0,2\\n0,2\\n0,2\\n0,2\\n91,2\\n0,2\\n83,2\\n0,2\\n81,2\\n0,2\\n0,2\\n87,2\\n0,2\\n0,2\\n0,2\\n83,2\\n0,2\\n94,2\\n0,2\\n0,2\\n81,2\\n0,2\\n0,2\\n0,2\\n87,2\\n0,2\\n0,2\\n108,2\\n')\n",
    "data = pd.read_csv(raw_data)"
   ]
  },
  {
   "cell_type": "code",
   "execution_count": null,
   "id": "d9bc723e",
   "metadata": {
    "cellId": "29cps4v99v3xz81q1jyp7r"
   },
   "outputs": [],
   "source": [
    "data"
   ]
  },
  {
   "cell_type": "markdown",
   "id": "dddff295",
   "metadata": {
    "cellId": "rb954e09q2sg3mw7yerf14",
    "execution_id": "915bef67-5a53-4c70-939c-fb33540b951c"
   },
   "source": [
    "## 1. Data description\n",
    "1. Propose and motivate a likelihood for the problem"
   ]
  },
  {
   "cell_type": "markdown",
   "id": "e754534a",
   "metadata": {
    "cellId": "fsz5fepepbqy2z11thdtnd",
    "execution_id": "a7388583-90ad-4af5-b3fd-1d1b205d4935"
   },
   "source": [
    "## 2. Probabilistic model"
   ]
  },
  {
   "cell_type": "markdown",
   "id": "207b7cf2",
   "metadata": {
    "cellId": "wv2vr0mdgurhs9lrlhlqwj",
    "execution_id": "dd8e2a2c-6bc3-4dc7-829d-116a278d8252"
   },
   "source": [
    "2. Propose and motivate a probabilistic model (non-hierarchical) for the problem. Some parameters may be shared, some independent if you want.\n",
    "    \n",
    "    0. Write LaTeX equation for the model (displaying latex model is ok)\n",
    "    1. Motivate priors, under the only assumption that purchases are at orders of 100s and no more than 500\n",
    "    2. Make a prior predictive check to confirm your choice\n",
    "    3. Sample from the model, plot traces compare it with prior, comment on it (e.g. infulence of data size)."
   ]
  },
  {
   "cell_type": "markdown",
   "id": "f6622d45",
   "metadata": {
    "cellId": "fy51crzn2cwirdd8bmlokm",
    "execution_id": "aa51a99f-198e-4240-9896-08fe4dd53aff"
   },
   "source": [
    "**hints:**\n",
    "\n",
    "1. explore `at.stack` to fix shape issues with mixture probability, (if you use mixtures)\n",
    "2. (ADDED) transform=pm.distributions.transforms.log in case of mixtures in likelihood (warning can appear otherwise)"
   ]
  },
  {
   "cell_type": "code",
   "execution_count": null,
   "id": "ef595724",
   "metadata": {
    "cellId": "2uoj0mwz91xe52lqz3ia5u"
   },
   "outputs": [],
   "source": [
    "with pm.Model(coords=dict(store=range(3))) as model:\n",
    "    ..."
   ]
  },
  {
   "cell_type": "code",
   "execution_count": null,
   "id": "46ecc77e",
   "metadata": {
    "cellId": "619w58t2d9m1hd9f91wbtc"
   },
   "outputs": [],
   "source": [
    "with model:\n",
    "    prior = pm.sample_prior_predictive()"
   ]
  },
  {
   "cell_type": "code",
   "execution_count": null,
   "id": "539e77e0",
   "metadata": {
    "cellId": "wu4qyqit7xp3eurqkamt"
   },
   "outputs": [],
   "source": [
    "with model:\n",
    "    trace = pm.sample()\n",
    "    trace.extend(prior)"
   ]
  },
  {
   "cell_type": "markdown",
   "id": "41105bd8",
   "metadata": {
    "cellId": "4oqatf6ob9pm6z3icui9xn",
    "execution_id": "4786ed0a-7ba9-41a7-bd52-3d0d63e53867"
   },
   "source": [
    "## 3. Hierarchical Model (1 parameter)\n",
    "3. Propose a hierarchical model for the problem. Put hierarchy on only one model parameter (you choose which one, prefer mean)\n",
    "\n",
    "**hints:**\n",
    "\n",
    "1. Use non centered parametrization\n",
    "2. Use pm.Deterministic to track reparametrized parameters"
   ]
  },
  {
   "cell_type": "code",
   "execution_count": null,
   "id": "5dd46b33",
   "metadata": {
    "cellId": "cnrc8dhdraapgdgsdwkfk"
   },
   "outputs": [],
   "source": [
    "with pm.Model(coords=dict(store=range(3))) as model1:\n",
    "    ..."
   ]
  },
  {
   "cell_type": "code",
   "execution_count": null,
   "id": "640d3ab2",
   "metadata": {
    "cellId": "xju91tyb1w48hj4ohn84f"
   },
   "outputs": [],
   "source": [
    "with model1:\n",
    "    prior1 = pm.sample_prior_predictive()"
   ]
  },
  {
   "cell_type": "code",
   "execution_count": null,
   "id": "f30904c0",
   "metadata": {
    "cellId": "xcagfxukjj7hqfvp5evifa"
   },
   "outputs": [],
   "source": [
    "with model1:\n",
    "    trace1 = pm.sample()\n",
    "    trace1.extend(prior1)"
   ]
  },
  {
   "cell_type": "markdown",
   "id": "496c5fa4",
   "metadata": {
    "cellId": "kgwyfhhluy9ogpss0sw35",
    "execution_id": "b2d0036e-557f-4b72-9692-f689f9df0de5"
   },
   "source": [
    "## 4. Hierarchical Model (2 parameters)\n",
    "4. Propose a hierarchical model for the problem. Put hierarchy on 2 model parameters (you choose which additional one, prefer p)\n",
    "\n",
    "**hint:**\n",
    "\n",
    "For Hierarchical probs:\n",
    "\n",
    "Use LogitNormal distribution (preferred)\n",
    "\n",
    "1. simple to interpret\n",
    "2. easier to parametrize (same you do normal dist but with a transform)"
   ]
  },
  {
   "cell_type": "code",
   "execution_count": null,
   "id": "1b4a310e",
   "metadata": {
    "cellId": "ktxax4rbcvnytar4p6zxd"
   },
   "outputs": [],
   "source": [
    "with pm.Model(coords=dict(store=range(3))) as model2:\n",
    "    ..."
   ]
  },
  {
   "cell_type": "code",
   "execution_count": null,
   "id": "24a8918c",
   "metadata": {
    "cellId": "eb0l343zofthhug48a8tbs"
   },
   "outputs": [],
   "source": [
    "with model2:\n",
    "    prior2 = pm.sample_prior_predictive()"
   ]
  },
  {
   "cell_type": "code",
   "execution_count": null,
   "id": "45db68c5",
   "metadata": {
    "cellId": "rbxtr9zjw3d202hjsev9ja"
   },
   "outputs": [],
   "source": [
    "with model2:\n",
    "    trace2 = pm.sample()\n",
    "    trace2.extend(prior2)"
   ]
  },
  {
   "cell_type": "markdown",
   "id": "ccfda2e6",
   "metadata": {
    "cellId": "8ne1s0vew8asivh62i6w3g",
    "execution_id": "f55cc839-a021-4390-b384-c0e4d0084409"
   },
   "source": [
    "## 5. Model Comparison study\n",
    "\n",
    "5. Perform a model comparison study (look into az.compare)\n",
    "\n",
    "    1. Interpret the result and choose the best model\n",
    "    2. Elaborate on Warnings, if there are any"
   ]
  },
  {
   "cell_type": "code",
   "execution_count": null,
   "id": "72698fa4",
   "metadata": {
    "cellId": "wdx8tbpk1cazck2yb8174"
   },
   "outputs": [],
   "source": [
    "res = az.compare(dict(simple=trace, hierarchy1=trace1, hierarchy2=trace2))"
   ]
  },
  {
   "cell_type": "code",
   "execution_count": null,
   "id": "5b9eb5dc",
   "metadata": {
    "cellId": "c5h5tig9frm4ovhcznv6xg"
   },
   "outputs": [],
   "source": [
    "res"
   ]
  }
 ],
 "metadata": {
  "kernelspec": {
   "display_name": "bayes-workshop",
   "language": "python",
   "name": "bayes-workshop"
  },
  "language_info": {
   "codemirror_mode": {
    "name": "ipython",
    "version": 3
   },
   "file_extension": ".py",
   "mimetype": "text/x-python",
   "name": "python",
   "nbconvert_exporter": "python",
   "pygments_lexer": "ipython3",
   "version": "3.11.3"
  },
  "notebookId": "19564aff-7147-40f2-b6a2-cd74f22f7a92",
  "notebookPath": "ha-1-pre.ipynb"
 },
 "nbformat": 4,
 "nbformat_minor": 5
}
